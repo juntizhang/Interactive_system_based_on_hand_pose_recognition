{
 "cells": [
  {
   "cell_type": "code",
   "execution_count": 1,
   "metadata": {},
   "outputs": [],
   "source": [
    "from djitellopy import tello\n",
    "import cv2\n",
    "import HandTrackingModule as htm\n",
    "import autopy #For controlling the mouse\n",
    "import numpy as np\n",
    "import time# Set resolution \n",
    "import os"
   ]
  },
  {
   "cell_type": "code",
   "execution_count": 2,
   "metadata": {},
   "outputs": [
    {
     "name": "stdout",
     "output_type": "stream",
     "text": [
      "00Connected.png\n",
      "01Control.png\n",
      "02Follow.png\n",
      "03Takeoff.png\n",
      "04Landing.png\n",
      "05Forward.png\n",
      "06Back.png\n",
      "07Left.png\n",
      "08Right.png\n",
      "09Up.png\n",
      "10Down.png\n",
      "11Rotate.png\n",
      "12Flip.png\n"
     ]
    }
   ],
   "source": [
    "gui_background = cv2.imread(r\"\\GUI\\GUI1.png\")\n",
    "gui_background = cv2.resize(gui_background,(768,432),interpolation=cv2.INTER_AREA)\n",
    "#Import mode png into a list\n",
    "folderModepath = r\"\\GUI\\Mode\"\n",
    "Mode_list = []\n",
    "Mode = []\n",
    "modePathList = os.listdir(folderModepath)\n",
    "for path in modePathList:\n",
    "    Mode_list.append(cv2.imread(os.path.join(folderModepath,path)))\n",
    "    print(path)\n",
    "\n",
    "for img in Mode_list:\n",
    "    img = cv2.resize(img,(231,28),interpolation=cv2.INTER_AREA)\n",
    "    Mode.append(img)"
   ]
  },
  {
   "cell_type": "code",
   "execution_count": null,
   "metadata": {},
   "outputs": [],
   "source": [
    "# tello = tello.Tello()\n",
    "# tello.connect()\n",
    "# print(tello.get_battery())\n",
    "# tello.streamon() #打开摄像头"
   ]
  },
  {
   "cell_type": "code",
   "execution_count": 6,
   "metadata": {},
   "outputs": [],
   "source": [
    "wCam, hCam = 400, 225\n",
    "cap = cv2.VideoCapture(0)  # Default camera on laptop: 0  External:1 or more\n",
    "cap.set(3, wCam)  #Fix the w/h ratio to 3:4\n",
    "cap.set(4, hCam) #and set the 分辨率\n",
    "\n",
    "detector = htm.handDetector(maxHands = 1)\n",
    "flag = [0,0,0,0,0]"
   ]
  },
  {
   "cell_type": "code",
   "execution_count": null,
   "metadata": {},
   "outputs": [
    {
     "data": {
      "text/plain": [
       "(28, 231, 3)"
      ]
     },
     "execution_count": 5,
     "metadata": {},
     "output_type": "execute_result"
    }
   ],
   "source": [
    "Mode[0].shape"
   ]
  },
  {
   "cell_type": "code",
   "execution_count": null,
   "metadata": {},
   "outputs": [],
   "source": [
    "while True:\n",
    "    success, img_origin = cap.read() #按帧读取视频\n",
    "                              #如果读取值是正确帧，success=True,如果读取到结尾，False\n",
    "                              #img就是每一帧的图像，是个三维矩阵.在cv2里是BGR\n",
    "    img_origin = cv2.resize(img_origin,(wCam,hCam),interpolation=cv2.INTER_AREA)\n",
    "\n",
    "    allhands,img_origin = detector.findHands(img_origin, draw=True) #手部定位\n",
    "    \n",
    "    # photo = tello.get_frame_read().frame\n",
    "    # photo = cv2.resize(photo, (215, 145))\n",
    "    gui_background[100:100+hCam,44:wCam-6] = img_origin[0:hCam,25:wCam-25]  #[starting point of hlast point of h,starting of wlast of w]\n",
    "    # gui_background[4646+photo.shape[0],498498+photo.shape[1]] = photo  \n",
    "\n",
    "    #cv2.rectangle(gui_background,(180,375),(218,395),(186,96,104),-1)\n",
    "    # cv2.putText(gui_background, str(tello.get_battery()), (186,391), cv2.FONT_ITALIC,\n",
    "    #                             0.75, (255, 255, 255), 1)\n",
    "\n",
    "##############################################################################################################\n",
    "    cv2.rectangle(gui_background,(180,375),(500,395),(186,96,104),-1)\n",
    "    cv2.putText(gui_background, str(fingers), (186,391), cv2.FONT_ITALIC,0.75, (255, 255, 255), 1) #测试用\n",
    "##############################################################################################################\n",
    "\n",
    "    cv2.imshow(\"Drone control\",gui_background)\n",
    "    cv2.waitKey(1) #keep the window visible rather than shutting down instantly\n",
    "    \n",
    "    if len(allhands) != 0:\n",
    "        x1, y1 = allhands[0]['lmList'][4][0:2]\n",
    "        x2, y2 = allhands[0]['lmList'][8][0:2]\n",
    "        x3, y3 = allhands[0]['lmList'][12][0:2]\n",
    "        fingers = detector.fingersUp(img_origin, allhands)\n",
    "\n",
    "        if fingers == [0,1,1,0,0] and flag[0] == 0: #take off\n",
    "            gui_background[232:232+Mode[0].shape[0],490:490+Mode[0].shape[1]] = Mode[3]  #Display mode\n",
    "            flag[0] = 1\n",
    "\n",
    "        elif fingers == [-1,0,0,0,0] and flag[1] == 0: #landing\n",
    "            gui_background[232:232+Mode[0].shape[0],490:490+Mode[0].shape[1]] = Mode[4]  #Display mode\n",
    "            flag[1] = 1\n",
    "\n",
    "        elif fingers == [0,1,0,0,0] and flag[2] == 0: #left\n",
    "            gui_background[232:232+Mode[0].shape[0],490:490+Mode[0].shape[1]] = Mode[7]  #Display mode\n",
    "            flag[2] = 1\n",
    "\n",
    "        elif fingers == [0,0,0,0,1] and flag[3] == 0: #right\n",
    "            gui_background[232:232+Mode[0].shape[0],490:490+Mode[0].shape[1]] = Mode[8]  #Display mode\n",
    "            flag[3] = 1\n",
    "\n",
    "        elif fingers == [0,0,0,0,0]:\n",
    "            flag = [0,0,0,0,0]\n",
    "\n",
    "#################################################################\n",
    "    if cv2.waitKey(1) == ord('q'):\n",
    "     break\n",
    "\n",
    "cap.release()\n",
    "cv2.destroyAllWindows()"
   ]
  }
 ],
 "metadata": {
  "kernelspec": {
   "display_name": "handpose",
   "language": "python",
   "name": "python3"
  },
  "language_info": {
   "codemirror_mode": {
    "name": "ipython",
    "version": 3
   },
   "file_extension": ".py",
   "mimetype": "text/x-python",
   "name": "python",
   "nbconvert_exporter": "python",
   "pygments_lexer": "ipython3",
   "version": "3.8.15"
  },
  "orig_nbformat": 4,
  "vscode": {
   "interpreter": {
    "hash": "e95db268df8e3800e551a6fa42a49890f6617ac66d5fcf3e6398e2bb77bf1bbc"
   }
  }
 },
 "nbformat": 4,
 "nbformat_minor": 2
}
