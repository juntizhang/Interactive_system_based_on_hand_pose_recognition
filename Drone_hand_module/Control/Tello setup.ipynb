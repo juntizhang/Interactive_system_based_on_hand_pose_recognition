{
 "cells": [
  {
   "cell_type": "code",
   "execution_count": 10,
   "metadata": {},
   "outputs": [],
   "source": [
    "from djitellopy import tello\n",
    "import cv2\n",
    "import HandTrackingModule as htm\n",
    "import autopy #For controlling the mouse\n",
    "import numpy as np\n",
    "import time# Set resolution "
   ]
  },
  {
   "cell_type": "code",
   "execution_count": 11,
   "metadata": {},
   "outputs": [
    {
     "name": "stderr",
     "output_type": "stream",
     "text": [
      "[INFO] tello.py - 122 - Tello instance was initialized. Host: '192.168.10.1'. Port: '8889'.\n",
      "[INFO] tello.py - 437 - Send command: 'command'\n",
      "[INFO] tello.py - 461 - Response command: 'ok'\n",
      "[INFO] tello.py - 437 - Send command: 'streamon'\n",
      "[INFO] tello.py - 461 - Response streamon: 'ok'\n"
     ]
    },
    {
     "name": "stdout",
     "output_type": "stream",
     "text": [
      "65\n"
     ]
    }
   ],
   "source": [
    "tello = tello.Tello()\n",
    "tello.connect()\n",
    "print(tello.get_battery())\n",
    "tello.streamon() #打开摄像头"
   ]
  },
  {
   "cell_type": "code",
   "execution_count": 6,
   "metadata": {},
   "outputs": [],
   "source": [
    "wCam, hCam = 1080, 720\n",
    "frameR = 40\n",
    "smoothening = 5\n",
    "wScr, hScr = autopy.screen.size()  # 返回电脑屏幕的宽和高(1920.0, 1080.0)\n",
    "#####################\n",
    "\n",
    "cap = cv2.VideoCapture(0)  # Default camera on laptop: 0  External:1 or more\n",
    "cap.set(3, wCam)  #Fix the window w/h ratio to 3:4\n",
    "cap.set(4, hCam) #and set the 分辨率\n",
    "pTime = 0\n",
    "plocX, plocY = 0, 0\n",
    "clocX, clocY = 0, 0\n",
    "frame = 0  # 初始化累计帧数\n",
    "toggle = False\n",
    "fly_flag = False\n",
    "prev_state = [1, 1, 1, 1, 1]  # 初始化上一帧状态\n",
    "current_state = [1, 1, 1, 1, 1]  # 初始化当前正状态\n",
    "\n",
    "detector = htm.handDetector(maxHands = 1)"
   ]
  },
  {
   "cell_type": "code",
   "execution_count": 7,
   "metadata": {},
   "outputs": [
    {
     "name": "stderr",
     "output_type": "stream",
     "text": [
      "[INFO] tello.py - 437 - Send command: 'takeoff'\n",
      "[INFO] tello.py - 461 - Response takeoff: 'ok'\n",
      "[INFO] tello.py - 437 - Send command: 'land'\n",
      "[INFO] tello.py - 461 - Response land: 'ok'\n"
     ]
    }
   ],
   "source": [
    "while True:\n",
    "    photo = tello.get_frame_read().frame\n",
    "    photo = cv2.resize(photo, (720, 480))\n",
    "    cv2.imshow(\"Photo\",photo)\n",
    "    cv2.waitKey(1) #keep the window visible rather than shutting down instantly\n",
    "    \n",
    "    success, img_origin = cap.read() #按帧读取视频\n",
    "                              #如果读取值是正确帧，success=True,如果读取到结尾，False\n",
    "                              #img就是每一帧的图像，是个三维矩阵.在cv2里是BGR\n",
    "    # 1. Detecting hand and return key points 坐标\n",
    "    allhands,img = detector.findHands(img_origin, draw=True) #手部定位\n",
    "    # 在图像窗口上创建一个矩形框，在该区域内移动鼠标\n",
    "    cv2.rectangle(img, (frameR, frameR), (wCam - 4*frameR, hCam - 10*frameR), (0, 255, 0), 2,  cv2.FONT_HERSHEY_PLAIN)\n",
    "\n",
    "    if len(allhands) != 0:\n",
    "        x1, y1 = allhands[0]['lmList'][4][0:2]\n",
    "        x2, y2 = allhands[0]['lmList'][8][0:2]\n",
    "        x3, y3 = allhands[0]['lmList'][12][0:2]\n",
    "        fingers = detector.fingersUp(img, allhands)\n",
    "\n",
    "        if fingers == [0,1,0,0,0] and fly_flag == False:\n",
    "            tello.takeoff() # Tello的起飞指令\n",
    "            fly_flag = True\n",
    "\n",
    "        elif fingers == [1,0,0,0,0] and fly_flag == True:\n",
    "            tello.land() # Tello的降落指令\n",
    "            fly_flag = False\n",
    "\n",
    "    cTime = time.time()\n",
    "    fps = 1 / (cTime - pTime)\n",
    "    pTime = cTime\n",
    "    # img_copy = img.copy()\n",
    "    cv2.putText(img_origin, f'fps:{int(fps)}', [15, 25],\n",
    "                cv2.FONT_HERSHEY_PLAIN, 2, (255, 0, 255), 2) #Display Frames per second 每秒传输帧数\n",
    "    cv2.imshow(\"Image\", img_origin)\n",
    "\n",
    "    if cv2.waitKey(1) == ord('q'):\n",
    "        break\n",
    "\n",
    "\n",
    "\n",
    "# finger_drag.stop()\n",
    "cap.release()\n",
    "cv2.destroyAllWindows()\n"
   ]
  },
  {
   "cell_type": "code",
   "execution_count": 18,
   "metadata": {},
   "outputs": [
    {
     "name": "stdout",
     "output_type": "stream",
     "text": [
      "62\n"
     ]
    }
   ],
   "source": [
    "print(tello.get_battery())"
   ]
  },
  {
   "cell_type": "code",
   "execution_count": 19,
   "metadata": {},
   "outputs": [
    {
     "name": "stderr",
     "output_type": "stream",
     "text": [
      "[INFO] tello.py - 437 - Send command: 'takeoff'\n",
      "[WARNING] tello.py - 447 - Aborting command 'takeoff'. Did not receive a response after 20 seconds\n",
      "[INFO] tello.py - 437 - Send command: 'takeoff'\n",
      "[INFO] tello.py - 461 - Response takeoff: 'ok'\n"
     ]
    }
   ],
   "source": [
    "tello.takeoff() # Tello的起飞指令"
   ]
  },
  {
   "cell_type": "code",
   "execution_count": 37,
   "metadata": {},
   "outputs": [
    {
     "name": "stderr",
     "output_type": "stream",
     "text": [
      "[INFO] tello.py - 437 - Send command: 'ccw 90'\n",
      "[INFO] tello.py - 461 - Response ccw 90: 'ok'\n"
     ]
    }
   ],
   "source": [
    "# tello.move_left(100) # Tello向左平移100厘米\n",
    "tello.rotate_counter_clockwise(90) # Tello在同一高度顺时针旋转90度\n",
    "# tello.move_forward(100) # Tello向前飞行100厘米"
   ]
  },
  {
   "cell_type": "code",
   "execution_count": null,
   "metadata": {},
   "outputs": [],
   "source": [
    "tello.move_forward(20) # Tello向前飞行100厘米"
   ]
  },
  {
   "cell_type": "code",
   "execution_count": 23,
   "metadata": {},
   "outputs": [
    {
     "name": "stderr",
     "output_type": "stream",
     "text": [
      "[INFO] tello.py - 437 - Send command: 'flip b'\n",
      "[INFO] tello.py - 461 - Response flip b: 'ok'\n"
     ]
    }
   ],
   "source": [
    "tello.flip_back()\n"
   ]
  },
  {
   "cell_type": "code",
   "execution_count": 22,
   "metadata": {},
   "outputs": [
    {
     "name": "stderr",
     "output_type": "stream",
     "text": [
      "[INFO] tello.py - 437 - Send command: 'flip f'\n",
      "[INFO] tello.py - 461 - Response flip f: 'ok'\n"
     ]
    }
   ],
   "source": [
    "tello.flip('f')"
   ]
  },
  {
   "cell_type": "code",
   "execution_count": 24,
   "metadata": {},
   "outputs": [
    {
     "name": "stderr",
     "output_type": "stream",
     "text": [
      "[INFO] tello.py - 437 - Send command: 'land'\n",
      "[INFO] tello.py - 461 - Response land: 'ok'\n"
     ]
    }
   ],
   "source": [
    "tello.land() # Tello的降落指令"
   ]
  }
 ],
 "metadata": {
  "kernelspec": {
   "display_name": "Python 3.8.15 ('handpose')",
   "language": "python",
   "name": "python3"
  },
  "language_info": {
   "codemirror_mode": {
    "name": "ipython",
    "version": 3
   },
   "file_extension": ".py",
   "mimetype": "text/x-python",
   "name": "python",
   "nbconvert_exporter": "python",
   "pygments_lexer": "ipython3",
   "version": "3.8.15"
  },
  "orig_nbformat": 4,
  "vscode": {
   "interpreter": {
    "hash": "e95db268df8e3800e551a6fa42a49890f6617ac66d5fcf3e6398e2bb77bf1bbc"
   }
  }
 },
 "nbformat": 4,
 "nbformat_minor": 2
}
